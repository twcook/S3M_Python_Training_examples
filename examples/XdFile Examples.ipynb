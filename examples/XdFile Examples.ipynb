{
 "cells": [
  {
   "cell_type": "markdown",
   "metadata": {
    "slideshow": {
     "slide_type": "slide"
    }
   },
   "source": [
    "# Examples using the XdFileType"
   ]
  },
  {
   "cell_type": "markdown",
   "metadata": {},
   "source": [
    "A type to use for encapsulated content such as files for images, audio and other media types with a defined MIME type. This type provides a choice of embedding the file content encoded in base64 or using a URL to point to the content.\n",
    "\n",
    "The following elements provide *metadata* information about the content:\n",
    "\n",
    "**size** is an integer that represents the unencoded content in bytes\n",
    "\n",
    "**encoding** is a string value from the [IANA character set table](https://www.iana.org/assignments/character-sets). Unicode is the default assumption in S3Model, with UTF-8 being the assumed encoding. This element allows for variations from these assumptions.\n",
    "\n",
    "**xdfile-language** is an optional language code from [RFC 3066](https://www.ietf.org/rfc/rfc3066.txt). It is used to indicate the language of the content.\n",
    "\n",
    "**formalism** contains the name of the formalism or syntax used to inform an application regarding a candidate parser to use on the content. Examples might include: ‘ATL’, ‘MOLA’, ‘QVT’, ‘GDL’, ‘GLIF’, or other domain-specific language parser.\n",
    "\n",
    "**media-type** optionally contains the MIME type from the [IANA registered types](https://www.iana.org/assignments/media-types/media-types.xhtml).\n",
    "\n",
    "**compression-type** optionally contains the compression/archiving mime-type. If this element does not exist, then it means there is no compression/archiving. [Common mime-types for compression/archiving](https://en.wikipedia.org/wiki/List_of_archive_formats).\n",
    "\n",
    "**hash-result** optionally contains a hash function result of the media-content. There must be a corresponding hash-function type listed for this to have any meaning. [Candidate list](https://en.wikipedia.org/wiki/List_of_hash_functions#Cryptographic_hash_functions).\n",
    "\n",
    "**hash-function** contains the hash function used to compute the content for hash-result. [Candidate list](https://en.wikipedia.org/wiki/List_of_hash_functions#Cryptographic_hash_functions).\n",
    "\n",
    "**alt-txt** optionally contains the text to display in place of multimedia display or execution.\n",
    "\n",
    "*The next two elements have a binary choice relationship. **One and only one of them will appear in the model**.*\n",
    "\n",
    "- **uri** contains a URI reference to electronic information stored outside the record as a file, database entry or other persistence methods when the content is supplied as a reference.\n",
    "\n",
    "- **media-content** contains the file contents encoded using the base64Bianry algorithm.\n",
    "\n"
   ]
  },
  {
   "cell_type": "markdown",
   "metadata": {
    "slideshow": {
     "slide_type": "slide"
    }
   },
   "source": [
    "**Set the path and import the extended datatype.**"
   ]
  },
  {
   "cell_type": "code",
   "execution_count": null,
   "metadata": {},
   "outputs": [],
   "source": [
    "import os\n",
    "# set the current working directory to the project parent.\n",
    "os.chdir(os.path.abspath(os.path.join(os.getcwd(), os.pardir)))"
   ]
  },
  {
   "cell_type": "code",
   "execution_count": null,
   "metadata": {
    "slideshow": {
     "slide_type": "fragment"
    }
   },
   "outputs": [],
   "source": [
    "from S3MPython.xdt import XdFileType"
   ]
  },
  {
   "cell_type": "markdown",
   "metadata": {
    "slideshow": {
     "slide_type": "slide"
    }
   },
   "source": [
    "Review the documentation of XdFileType. \n"
   ]
  },
  {
   "cell_type": "code",
   "execution_count": null,
   "metadata": {
    "scrolled": false,
    "slideshow": {
     "slide_type": "slide"
    }
   },
   "outputs": [],
   "source": [
    "help(XdFileType)"
   ]
  },
  {
   "cell_type": "markdown",
   "metadata": {
    "slideshow": {
     "slide_type": "slide"
    }
   },
   "source": [
    "Create a XdFile model instance. \n",
    "\n",
    "We are going to create a model for logos to be embeded in the data instance. "
   ]
  },
  {
   "cell_type": "code",
   "execution_count": null,
   "metadata": {},
   "outputs": [],
   "source": [
    "d = XdFileType(\"Company Logo\")\n",
    "d.docs = \"The logo of the company.\"\n",
    "d.definition_url = 'http://s3model.com/examples/logos'\n",
    "d.content_type = 'embed'"
   ]
  },
  {
   "cell_type": "markdown",
   "metadata": {},
   "source": [
    "Review the XSD model fragment. Note the similarity and consistency of each Xd* Type model. \n",
    "\n",
    "Here, as we saw in the choice *true-value* or *false-value* attributes in the XdBooleanType, we have a choice between *uri* and *media-content*. \n",
    "\n",
    "Only one or the other can be present in the model and therefore in the data instance. The default is for a *uri*. Since we want to embed the logo we set the *content_type* to 'embed'.\n",
    "\n",
    "Once we have completed the model it must be published before we can add/change instance data."
   ]
  },
  {
   "cell_type": "code",
   "execution_count": null,
   "metadata": {},
   "outputs": [],
   "source": [
    "print(d.uri)"
   ]
  },
  {
   "cell_type": "code",
   "execution_count": null,
   "metadata": {},
   "outputs": [],
   "source": [
    "d.published = True\n",
    "print(d.getModel())"
   ]
  },
  {
   "cell_type": "markdown",
   "metadata": {},
   "source": [
    "Let's add some data.\n",
    "\n",
    "Since we are going to store the content in the data instance we first need to read the file we are going to store. \n",
    "\n",
    "We need the filesize as part of our meta-data about this content."
   ]
  },
  {
   "cell_type": "code",
   "execution_count": null,
   "metadata": {},
   "outputs": [],
   "source": [
    "img = os.path.abspath(os.path.join(os.getcwd(), 'examples', 'images','S3M.png'))\n",
    "print(\"Path to file: \", img)\n",
    "filesize = os.stat(img).st_size\n",
    "d.size = filesize\n",
    "d.alt_txt = \"S3Model Logo\"\n",
    "# Take a look at some details of the model.\n",
    "print(d, '\\n')\n",
    "print(d.alt_txt, 'File size in bytes: ' + str(d.size))"
   ]
  },
  {
   "cell_type": "markdown",
   "metadata": {},
   "source": [
    "We base64encode it and store the content in the *media_content* attribute.\n",
    "We check the type to see that it is 'bytes' (a byte string)."
   ]
  },
  {
   "cell_type": "code",
   "execution_count": null,
   "metadata": {},
   "outputs": [],
   "source": [
    "import base64\n",
    "\n",
    "with open(img, \"rb\") as f:\n",
    "    encodedFile = base64.b64encode(f.read())\n",
    "print(\"The enclosed file type is: \", type(encodedFile))\n",
    "d.media_content = encodedFile"
   ]
  },
  {
   "cell_type": "code",
   "execution_count": null,
   "metadata": {
    "scrolled": false
   },
   "outputs": [],
   "source": [
    "print(d.getXMLInstance())"
   ]
  },
  {
   "cell_type": "markdown",
   "metadata": {},
   "source": [
    "The *media_content* and *uri* attributes are mutually exclusive. \n",
    "\n",
    "Because the model is frozen once it has been published, we will create a new model instance below to demonstrate the use of *uri*. \n",
    "\n",
    "Since 'uri' is the default *content_type* setting we do not need to set it.\n",
    "\n",
    "Using the cardinality attribute we are going to require the *size* attribute."
   ]
  },
  {
   "cell_type": "code",
   "execution_count": null,
   "metadata": {
    "scrolled": true
   },
   "outputs": [],
   "source": [
    "d = XdFileType(\"S3Model Logo\")\n",
    "d.docs = \"The awesome S3Model Logo\"\n",
    "\n",
    "d.definition_url = 'http://s3model.com/examples/files'\n",
    "d.cardinality = ('size', [1,1])\n",
    "print(d)"
   ]
  },
  {
   "cell_type": "code",
   "execution_count": null,
   "metadata": {},
   "outputs": [],
   "source": [
    "d.published = True\n",
    "print(d.getModel())"
   ]
  },
  {
   "cell_type": "code",
   "execution_count": null,
   "metadata": {},
   "outputs": [],
   "source": [
    "img = os.path.abspath(os.path.join(os.getcwd(), 'examples', 'images','S3M.png'))\n",
    "d.size = os.stat(img).st_size\n",
    "d.alt_txt = \"S3Model Logo\"\n",
    "d.uri = \"https://s3model.com/images/400dpiLogoCropped.png\"\n",
    "print(d.getXMLInstance())"
   ]
  }
 ],
 "metadata": {
  "kernelspec": {
   "display_name": "Python 3 (ipykernel)",
   "language": "python",
   "name": "python3"
  },
  "language_info": {
   "codemirror_mode": {
    "name": "ipython",
    "version": 3
   },
   "file_extension": ".py",
   "mimetype": "text/x-python",
   "name": "python",
   "nbconvert_exporter": "python",
   "pygments_lexer": "ipython3",
   "version": "3.9.7"
  }
 },
 "nbformat": 4,
 "nbformat_minor": 2
}
