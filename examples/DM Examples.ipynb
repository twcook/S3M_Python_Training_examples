{
 "cells": [
  {
   "cell_type": "markdown",
   "metadata": {
    "slideshow": {
     "slide_type": "slide"
    }
   },
   "source": [
    "# Example using the DMType"
   ]
  },
  {
   "cell_type": "markdown",
   "metadata": {},
   "source": [
    "This is the root, encapsulating node of a Data Model. The data model wraps the definitions for metadata about the model and it contains the metadata about the data.\n",
    "\n",
    "Note::\n",
    "\n",
    "    The data content is modeled as a document composed of the subtypes of XdAnyType with the structure based on the ItemType subtypes.\n",
    "\n",
    "The data content is generally quite flat and consistent when compared to other approaches. This aids the ability to perform queries and explore the data by separating the structure of the document from the semantics of any given concept.\n",
    "\n",
    "Model metadata is information about the creation and usage of the data model. It is based on Dublin Core Metadata standards and definitons. The ones used in S3Model Data Models are:\n",
    "\n",
    "* *title* A name given to the resource.\n",
    "\n",
    "* *creator* An entity primarily responsible for making the resource.\n",
    "\n",
    "* *subject* The topic of the resource.\n",
    "\n",
    "* *rights* Information about rights held in and over the resource.\n",
    "\n",
    "* *relation* A related resource.\n",
    "\n",
    "* *coverage* The spatial or temporal topic of the resource, the spatial applicability of the resource, or the jurisdiction under which the resource is relevant.\n",
    "\n",
    "* *type* The nature or genre of the resource.\n",
    "\n",
    "* *identifier* An unambiguous reference to the resource within a given context.\n",
    "\n",
    "* *description* An account of the resource.\n",
    "\n",
    "* *publisher* An entity responsible for making the resource available.\n",
    "\n",
    "* *date* A point or period of time associated with an event in the lifecycle of the resource. Here the date indicates date of publication.\n",
    "\n",
    "* *format* The file format, physical medium, or dimensions of the resource.\n",
    "\n",
    "* *language* A language of the resource.\n",
    "\n",
    "The precise structure and content of **Data Metadata** is designed by the data modeler within a generic framework of components. This metadata informs data consumers about what the data means. The many contextual aspects of the existence and life-cycle of the data may be recorded.\n",
    "\n",
    "The components are:\n",
    "\n",
    "* An audit system based on the AuditType\n",
    "\n",
    "* An attestation system based on the AttestationType\n",
    "\n",
    "* The subject (person, role, organization, etc.) of the data activity based on the PartyType\n",
    "\n",
    "* The provider (person, role, organization, etc.) of the activity based on the PartyType\n",
    "\n",
    "* Other participants (persons, roles, organizations, etc.) of the activity based on the ParticipationType\n",
    "\n",
    "* A link to a protocol, policy or guideline used to outline or define the structure of the data based on XdStringType\n",
    "\n",
    "* A link to a workflow engine or vocabulary based on XdLinkType\n",
    "\n",
    "* A current-state element to contain the current state of the data based on the workflow engine or vocabulary as a string value\n",
    "\n",
    "* A label string value element as a descriptive title for the model\n",
    "\n",
    "* A dm-encoding element used to record the character set encoding of the data. The default is utf-8\n",
    "\n",
    "* A dm-language element to indicate the primary langauge of the data.\n",
    "\n",
    "* An acs element to point to an external Access Control System such as a controlled vocabulary. This vocabulary informs the values available for the act element in all XdAnyType subtypes.\n",
    "\n",
    "* Optional external links based on XdLinkType may also be defined to expand information regarding the purpose, usage and relationships of this data.\n",
    "\n"
   ]
  },
  {
   "cell_type": "markdown",
   "metadata": {
    "slideshow": {
     "slide_type": "slide"
    }
   },
   "source": [
    "**Set the path and import the extended datatype.**"
   ]
  },
  {
   "cell_type": "code",
   "execution_count": 4,
   "metadata": {},
   "outputs": [],
   "source": [
    "import os\n",
    "# set the current working directory to the project parent.\n",
    "os.chdir(os.path.abspath(os.path.join(os.getcwd(), os.pardir)))"
   ]
  },
  {
   "cell_type": "code",
   "execution_count": 5,
   "metadata": {
    "slideshow": {
     "slide_type": "fragment"
    }
   },
   "outputs": [],
   "source": [
    "from S3MPython.dm import DMType\n",
    "from S3MPython.struct import ClusterType, XdAdapterType\n",
    "from S3MPython.xdt import XdStringType, XdTemporalType, XdOrdinalType, XdCountType"
   ]
  },
  {
   "cell_type": "markdown",
   "metadata": {
    "slideshow": {
     "slide_type": "slide"
    }
   },
   "source": [
    "Review the documentation of DMType. "
   ]
  },
  {
   "cell_type": "code",
   "execution_count": 6,
   "metadata": {
    "scrolled": true,
    "slideshow": {
     "slide_type": "slide"
    }
   },
   "outputs": [
    {
     "name": "stdout",
     "output_type": "stream",
     "text": [
      "Help on class DMType in module S3MPython.dm:\n",
      "\n",
      "class DMType(builtins.object)\n",
      " |  DMType(title)\n",
      " |  \n",
      " |  This is the root node of a Data Model (DM)\n",
      " |  \n",
      " |  Methods defined here:\n",
      " |  \n",
      " |  __init__(self, title)\n",
      " |      The Data Model is the wrapper for all of the data components as well as the semantics.\n",
      " |  \n",
      " |  __str__(self)\n",
      " |      Return str(self).\n",
      " |  \n",
      " |  exportDM(self)\n",
      " |      Return a XML Schema for a complete Data Model.\n",
      " |  \n",
      " |  exportJSON(self, example)\n",
      " |      Export a JSON instance for the Data Model.\n",
      " |  \n",
      " |  exportXML(self, example)\n",
      " |      Export a XML instance for the Data Model.\n",
      " |  \n",
      " |  extractRDF(self)\n",
      " |      Return the RDF/XML Triples for the Model.\n",
      " |  \n",
      " |  genMD(self)\n",
      " |      Create a metadata dictionary for the DM. Each element has a default.\n",
      " |  \n",
      " |  showMetadata(self)\n",
      " |  \n",
      " |  validate(self)\n",
      " |      Validation called before exporting code or execution of the __str__ method.\n",
      " |  \n",
      " |  ----------------------------------------------------------------------\n",
      " |  Readonly properties defined here:\n",
      " |  \n",
      " |  label\n",
      " |      The semantic name of the component.\n",
      " |  \n",
      " |  mcuid\n",
      " |      The unique identifier of the component.\n",
      " |  \n",
      " |  metadata\n",
      " |      The model metadata.\n",
      " |  \n",
      " |  ----------------------------------------------------------------------\n",
      " |  Data descriptors defined here:\n",
      " |  \n",
      " |  __dict__\n",
      " |      dictionary for instance variables (if defined)\n",
      " |  \n",
      " |  __weakref__\n",
      " |      list of weak references to the object (if defined)\n",
      " |  \n",
      " |  acs\n",
      " |      Access Control System.\n",
      " |  \n",
      " |  attestation\n",
      " |      Attestation record of an instance of data.\n",
      " |  \n",
      " |  audits\n",
      " |      List of audits in the data.\n",
      " |  \n",
      " |  data\n",
      " |      The data structure of the model.\n",
      " |  \n",
      " |  encoding\n",
      " |      Name of character set encoding in which text values in this DM are encoded. \n",
      " |      \n",
      " |      Default is utf-8.\n",
      " |  \n",
      " |  links\n",
      " |      List of links.\n",
      " |  \n",
      " |  md_contrib\n",
      " |      An entity responsible for making contributions to the content of the resource.\n",
      " |      Examples of a Contributor include a person, an organisation, or a service.\n",
      " |      Typically, the name of a Contributor should be used to indicate the entity.\n",
      " |      \n",
      " |      Any number of contributors may be added.\n",
      " |  \n",
      " |  md_coverage\n",
      " |      The extent or scope of the content of the resource.\n",
      " |      \n",
      " |      Coverage will typically include spatial location (a place name\n",
      " |      or geographic coordinates), temporal period (a period label,\n",
      " |      date, or date range) or jurisdiction (such as a named\n",
      " |      administrative entity).\n",
      " |      \n",
      " |      Recommended best practice is to select a value from a\n",
      " |      controlled vocabulary (for example, the Thesaurus of Geographic\n",
      " |      Names [TGN]) and that, where appropriate, named places or time\n",
      " |      periods be used in preference to numeric identifiers such as\n",
      " |      sets of coordinates or date ranges.\n",
      " |  \n",
      " |  md_creator\n",
      " |      An entity primarily responsible for making the content of the resource.\n",
      " |      \n",
      " |      Examples of a Creator include a person, an organisation,\n",
      " |      or a service. Typically, the name of a Creator should be used to\n",
      " |      indicate the entity.\n",
      " |  \n",
      " |  md_description\n",
      " |      An account of the content of the resource.\n",
      " |      \n",
      " |      Description may include but is not limited to: an abstract,\n",
      " |      table of contents, reference to a graphical representation\n",
      " |      of content or a free-text account of the content.\n",
      " |  \n",
      " |  md_language\n",
      " |      A language of the intellectual content of the resource.\n",
      " |      \n",
      " |      Recommended best practice for the values of the Language\n",
      " |      element is defined by RFC 1766 [RFC1766] which includes\n",
      " |      a two-letter Language Code (taken from the ISO 639\n",
      " |      standard [ISO639]), followed optionally, by a two-letter\n",
      " |      Country Code (taken from the ISO 3166 standard [ISO3166]).\n",
      " |      For example, 'en' for English, 'fr' for French, or\n",
      " |      'en-uk' for English used in the United Kingdom.\n",
      " |  \n",
      " |  md_publisher\n",
      " |      An entity responsible for making the resource available.\n",
      " |      \n",
      " |      Examples of a Publisher include a person, an organisation,\n",
      " |      or a service.\n",
      " |      Typically, the name of a Publisher should be used to\n",
      " |      indicate the entity.\n",
      " |  \n",
      " |  md_relation\n",
      " |      A reference to a related resource.\n",
      " |      \n",
      " |      In S3Model this would be the identifier of another data model.\n",
      " |  \n",
      " |  md_rights\n",
      " |      Information about rights held in and over the resource.\n",
      " |      \n",
      " |      Typically, a Rights element will contain a rights\n",
      " |      management statement for the resource, or reference\n",
      " |      a service providing such information. Rights information\n",
      " |      often encompasses Intellectual Property Rights (IPR),\n",
      " |      Copyright, and various Property Rights.\n",
      " |      If the Rights element is absent, no assumptions can be made\n",
      " |      about the status of these and other rights with respect to\n",
      " |      the resource.\n",
      " |  \n",
      " |  md_subject\n",
      " |      The topic of the content of the resource.\n",
      " |      \n",
      " |      Typically, a Subject will be expressed as keywords,\n",
      " |      key phrases or classification codes  (semi-colon separated)\n",
      " |      that describe a topic of the resource.\n",
      " |      \n",
      " |      Recommended best practice is to select a value from a\n",
      " |      controlled vocabulary or formal classification scheme.\n",
      " |  \n",
      " |  participations\n",
      " |      List of other participations in the data.\n",
      " |  \n",
      " |  pred_obj_list\n",
      " |      A list of additional predicate object pairs to describe the model.\n",
      " |      \n",
      " |      Each list item is a tuple where 0 is the predicate and 1 is the object.\n",
      " |      \n",
      " |      Example:\n",
      " |      ('rdf:resource','https://www.niddk.nih.gov/health-information/health-statistics')\n",
      " |      The setter accepts the tuple and appends it to the list.\n",
      " |      If an empty list is supplied it resets the value to the empty list.\n",
      " |  \n",
      " |  protocol\n",
      " |      Optional external identifier of protocol used when collecting the data. \n",
      " |      This could be a clinical guideline, an operations protocol, etc.\n",
      " |  \n",
      " |  provider\n",
      " |      Optional identification of the source of the information, which might be: \n",
      " |      • a patient \n",
      " |      • a patient agent, e.g. parent, guardian \n",
      " |      • a clinician\n",
      " |      • a technician\n",
      " |      • a device or software\n",
      " |  \n",
      " |  state\n",
      " |      The current state according to the state machine / workflow engine \n",
      " |      identified in the workflow element.\n",
      " |  \n",
      " |  subject\n",
      " |      Id of human subject of the data, e.g.: \n",
      " |      • subject of record (patient, customer, etc.) \n",
      " |      • a family member \n",
      " |      • another relevant person.\n",
      " |  \n",
      " |  workflow\n",
      " |      Identifier of externally held workflow engine (state machine) data for this \n",
      " |      workflow execution.\n",
      "\n"
     ]
    }
   ],
   "source": [
    "help(DMType)"
   ]
  },
  {
   "cell_type": "markdown",
   "metadata": {
    "slideshow": {
     "slide_type": "slide"
    }
   },
   "source": [
    "We will reuse our ClusterType example and create the DMType (Data Model) wrapper around it.\n",
    "\n",
    "<div class=\"logo-container\">\n",
    "  <div class=\"logo\"><img src=\"images/Data-Entry-Form.png\" height=\"400\" width=\"400\"/></div>\n",
    "</div>"
   ]
  },
  {
   "cell_type": "markdown",
   "metadata": {},
   "source": [
    "Here we are going to execute the same code we built in the ClusterType Example."
   ]
  },
  {
   "cell_type": "code",
   "execution_count": 7,
   "metadata": {},
   "outputs": [],
   "source": [
    "ERF = ClusterType('Employee Record Form')\n",
    "ERF.definition_url = 'http://s3model.com/examples/ERF'\n",
    "\n",
    "choice = []\n",
    "choice.append(('Add New','https://s3model.com/examples/AddNewRecord'))\n",
    "choice.append(('Modify','https://s3model.com/examples/ModifyRecord'))\n",
    "choice.append(('Delete','https://s3model.com/examples/DeleteRecord'))\n",
    "action = XdStringType(\"Record Action\")\n",
    "action.docs = \"Select the action to perform.\"\n",
    "action.definition_url = 'http://s3model.com/examples/action_choice'\n",
    "action.enums = choice\n",
    "action.published = True\n",
    "\n",
    "empnum = XdStringType('Employee Number')\n",
    "empnum.docs = 'An employee number consists of a single character department code (A-E) and 5 digits (0-9).'\n",
    "empnum.definition_url = 'https://s3model.com/examples/EmployeeNumber'\n",
    "empnum.regex = '[A-E]{1}[0-9]{5}'\n",
    "empnum.published = True\n",
    "\n",
    "joined = XdTemporalType(\"Date of Joining\")\n",
    "joined.docs = \"Require a full date. Disallow all others.\"\n",
    "joined.definition_url = 'http://s3model.com/examples/joindate'\n",
    "joined.cardinality = ('date', [1,1])\n",
    "joined.cardinality = ('time', [0,0])\n",
    "joined.cardinality = ('datetime', [0,0])\n",
    "joined.cardinality = ('day', [0,0])\n",
    "joined.cardinality = ('month', [0,0])\n",
    "joined.cardinality = ('year', [0,0])\n",
    "joined.cardinality = ('year_month', [0,0])\n",
    "joined.cardinality = ('month_day', [0,0])\n",
    "joined.cardinality = ('duration', [0,0])\n",
    "joined.published = True\n",
    "\n",
    "fname = XdStringType('First Name')\n",
    "fname.docs = \"The employee's first name.\"\n",
    "fname.definition_url = 'https://s3model.com/examples/EmployeeFirstName'\n",
    "fname.cardinality = ('value', [1,1])\n",
    "fname.published = True\n",
    "\n",
    "lname = XdStringType('Last Name')\n",
    "lname.docs = \"The employee's last name.\"\n",
    "lname.definition_url = 'https://s3model.com/examples/EmployeeLastName'\n",
    "lname.cardinality = ('value', [1,1])\n",
    "lname.published = True\n",
    "\n",
    "desig = XdStringType('Designation')\n",
    "desig.docs = \"The employee's designation.\"\n",
    "desig.definition_url = 'https://s3model.com/examples/EmployeeDesignation'\n",
    "jobs = []\n",
    "jobs.append(('Manager', 'https://s3model.com/examples/EmployeeDesignation#Manager'))\n",
    "jobs.append(('Foreman', 'https://s3model.com/examples/EmployeeDesignation#Forman'))\n",
    "jobs.append(('LineWorker', 'https://s3model.com/examples/EmployeeDesignation#LineWorker'))\n",
    "desig.enums = jobs\n",
    "desig.published = True\n",
    "\n",
    "dob = XdTemporalType(\"Date of Birth\")\n",
    "dob.docs = \"DOB allows a full date or just a month/year.\"\n",
    "dob.definition_url = 'http://s3model.com/examples/dob'\n",
    "dob.cardinality = ('date', [0,1])\n",
    "dob.cardinality = ('time', [0,0])\n",
    "dob.cardinality = ('datetime', [0,0])\n",
    "dob.cardinality = ('day', [0,0])\n",
    "dob.cardinality = ('month', [0,0])\n",
    "dob.cardinality = ('year', [0,0])\n",
    "dob.cardinality = ('year_month', [0,1])\n",
    "dob.cardinality = ('month_day', [0,0])\n",
    "dob.cardinality = ('duration', [0,0])\n",
    "dob.published = True\n",
    "\n",
    "qual = XdStringType('Highest Qualification')\n",
    "qual.docs = \"The employee's highest level of qualification.\"\n",
    "qual.definition_url = 'https://s3model.com/examples/EmployeeQualification'\n",
    "level = []\n",
    "level.append(('Level1', 'https://s3model.com/examples/EmployeeQualification#Level1'))\n",
    "level.append(('Level2', 'https://s3model.com/examples/EmployeeQualification#Level2'))\n",
    "level.append(('Level3', 'https://s3model.com/examples/EmployeeQualification#Level3'))\n",
    "qual.enums = level\n",
    "qual.published = True\n",
    "\n",
    "unit = XdStringType('Years')\n",
    "unit.docs = \"Count of the years of experience.\"\n",
    "unit.definition_url = 'https://s3model.com/examples/Experience'\n",
    "unit.published = True\n",
    "\n",
    "exp = XdCountType(\"Years of Experience\")\n",
    "exp.docs = \"Record the number of years of experience of the employee.\"\n",
    "exp.definition_url = 'https://s3model.com/examples/Experience#Years'\n",
    "exp.min_inclusive = 0\n",
    "exp.max_inclusive = 99\n",
    "exp.units = unit\n",
    "exp.published = True\n",
    "\n",
    "# add items to the Cluster\n",
    "a = XdAdapterType()\n",
    "a.value = action \n",
    "ERF.items = a\n",
    "a = XdAdapterType()\n",
    "a.value = empnum \n",
    "ERF.items = a\n",
    "a = XdAdapterType()\n",
    "a.value = joined  \n",
    "ERF.items = a\n",
    "a = XdAdapterType()\n",
    "a.value = fname \n",
    "ERF.items = a\n",
    "a = XdAdapterType()\n",
    "a.value = lname\n",
    "ERF.items = a\n",
    "a = XdAdapterType()\n",
    "a.value = desig\n",
    "ERF.items = a\n",
    "a = XdAdapterType()\n",
    "a.value = dob\n",
    "ERF.items = a\n",
    "a = XdAdapterType()\n",
    "a.value = qual\n",
    "ERF.items = a\n",
    "a = XdAdapterType()\n",
    "a.value = exp\n",
    "ERF.items = a\n",
    "ERF.published = True"
   ]
  },
  {
   "cell_type": "code",
   "execution_count": 8,
   "metadata": {},
   "outputs": [],
   "source": [
    "# Create the Data model instance.\n",
    "DM = DMType('Employee Record')"
   ]
  },
  {
   "cell_type": "code",
   "execution_count": 9,
   "metadata": {},
   "outputs": [],
   "source": [
    "# Add the Cluster data structure.\n",
    "DM.data = ERF"
   ]
  },
  {
   "cell_type": "markdown",
   "metadata": {},
   "source": [
    "You have seen previuosly how to add metadata to the components through applying RDF semantics.\n",
    "Here you will add metadata about the model itself. This is also converted to RDF using the scripts provided with S3Model.\n",
    "\n",
    "We use standard Dublin Core Metadata elements http://dublincore.org/documents/1999/07/02/dces/\n",
    "Note that elements; *title, type, date, format & identifier* are used but are not editable by the modeler.\n",
    "\n",
    "Take a look at the defaults by executing the next cell."
   ]
  },
  {
   "cell_type": "code",
   "execution_count": 10,
   "metadata": {
    "scrolled": false
   },
   "outputs": [
    {
     "name": "stdout",
     "output_type": "stream",
     "text": [
      "creator  -  Unknown\n",
      "contribs  -  []\n",
      "subject  -  S3M Data Model Example\n",
      "rights  -  Creative Commons\n",
      "relation  -  None\n",
      "coverage  -  Global\n",
      "description  -  Needs a description.\n",
      "publisher  -  Data Insights, Inc.\n",
      "language  -  en-US\n",
      "identifier  -  dm-cky8wj5ap000l1mpw7yn0yqtc\n"
     ]
    }
   ],
   "source": [
    "for (m, i) in DM.metadata.items():\n",
    "    print(m, ' - ', i)"
   ]
  },
  {
   "cell_type": "markdown",
   "metadata": {},
   "source": [
    "Edit the values here as desired by editing the properties. Try to make them meaningful in accordance with the example we created."
   ]
  },
  {
   "cell_type": "code",
   "execution_count": 11,
   "metadata": {},
   "outputs": [
    {
     "name": "stdout",
     "output_type": "stream",
     "text": [
      "creator  -  Unknown\n",
      "contribs  -  ['Someone', 'Noone']\n",
      "subject  -  S3M Data Model Example\n",
      "rights  -  Creative Commons\n",
      "relation  -  None\n",
      "coverage  -  Global\n",
      "description  -  Needs a description\n",
      "publisher  -  S3Model Project\n",
      "language  -  en-US\n",
      "identifier  -  dm-cky8wj5ap000l1mpw7yn0yqtc\n"
     ]
    }
   ],
   "source": [
    "DM.md_creator = 'Unknown'\n",
    "DM.md_contrib = 'Someone'\n",
    "DM.md_contrib = 'Noone'\n",
    "DM.md_subject = 'S3M Data Model Example'\n",
    "DM.md_rights = 'Creative Commons'\n",
    "DM.md_relation = 'None'\n",
    "DM.md_coverage = 'Global'\n",
    "DM.md_description = 'Needs a description'\n",
    "DM.md_publisher = 'S3Model Project'\n",
    "DM.md_language = 'en-US'\n",
    "\n",
    "for (m, i) in DM.metadata.items():\n",
    "    print(m, ' - ', i)"
   ]
  },
  {
   "cell_type": "code",
   "execution_count": 12,
   "metadata": {
    "scrolled": false
   },
   "outputs": [
    {
     "name": "stdout",
     "output_type": "stream",
     "text": [
      "Wrote /home/tim/S3MPython/dmlib/dm-cky8wj5ap000l1mpw7yn0yqtc.xsd\n"
     ]
    }
   ],
   "source": [
    "print(DM.exportDM())"
   ]
  },
  {
   "cell_type": "markdown",
   "metadata": {},
   "source": [
    "You have completed this tutorial. "
   ]
  }
 ],
 "metadata": {
  "kernelspec": {
   "display_name": "Python 3 (ipykernel)",
   "language": "python",
   "name": "python3"
  },
  "language_info": {
   "codemirror_mode": {
    "name": "ipython",
    "version": 3
   },
   "file_extension": ".py",
   "mimetype": "text/x-python",
   "name": "python",
   "nbconvert_exporter": "python",
   "pygments_lexer": "ipython3",
   "version": "3.9.7"
  }
 },
 "nbformat": 4,
 "nbformat_minor": 2
}
