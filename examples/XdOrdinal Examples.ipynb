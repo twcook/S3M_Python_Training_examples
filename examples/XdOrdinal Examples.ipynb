{
 "cells": [
  {
   "cell_type": "markdown",
   "metadata": {
    "slideshow": {
     "slide_type": "slide"
    }
   },
   "source": [
    "# Examples using the XdOrdinalType"
   ]
  },
  {
   "cell_type": "markdown",
   "metadata": {},
   "source": [
    "Models rankings and scores, e.g., pain, Apgar values, educational level, and the Likert Scale where there is;\n",
    "\n",
    "- implied ordering,\n",
    "\n",
    "- no implication that the distance between each value is constant, and\n",
    "\n",
    "- the total number of values is finite.\n",
    "\n",
    "Note that the term *ordinal* in mathematics means natural numbers only. In this case, any decimal is allowed since negative, and zero values are used by medical and other professionals for centering values around a neutral point. Also, decimal values are sometimes used such as 0.5 or .25\n",
    "\n",
    "Examples of sets of ordinal values are;\n",
    "\n",
    "- -3, -2, -1, 0, 1, 2, 3 – *reflex response values*\n",
    "\n",
    "- 0, 1, 2 – *Apgar values*\n",
    "\n",
    "Also used for recording any clinical or other data which is customarily recorded using symbolic values. Examples;\n",
    "\n",
    "- the results on a urinalysis strip, e.g. {neg, trace, +, ++, +++} are used for leukocytes, protein, nitrites etc;\n",
    "\n",
    "- for non-haemolysed blood {neg, trace, moderate};\n",
    "\n",
    "- for haemolysed blood {neg, trace, small, moderate, large}.\n",
    "\n",
    "Elements ordinal and symbol MUST have the same number of enumerations in the [MC](Models rankings and scores, e.g., pain, Apgar values, educational level, and the Likert Scale where there is;\n",
    "\n",
    "implied ordering,\n",
    "\n",
    "no implication that the distance between each value is constant, and\n",
    "\n",
    "the total number of values is finite.\n",
    "\n",
    "Note that the term ‘ordinal’ in mathematics means natural numbers only. In this case, any decimal is allowed since negative, and zero values are used by medical and other professionals for centering values around a neutral point. Also, decimal values are sometimes used such as 0.5 or .25\n",
    "\n",
    "Examples of sets of ordinal values are;\n",
    "\n",
    "-3, -2, -1, 0, 1, 2, 3 – reflex response values\n",
    "\n",
    "0, 1, 2 – Apgar values\n",
    "\n",
    "Also used for recording any clinical or other data which is customarily recorded using symbolic values. Examples;\n",
    "\n",
    "the results on a urinalysis strip, e.g. {neg, trace, +, ++, +++} are used for leukocytes, protein, nitrites etc;\n",
    "\n",
    "for non-haemolysed blood {neg, trace, moderate};\n",
    "\n",
    "for haemolysed blood {neg, trace, small, moderate, large}.\n",
    "\n",
    "Elements ordinal and symbol MUST have the same number of enumerations in the [MC](https://s3model.com/specifications/docs/glossary.html#model-component-mc)."
   ]
  },
  {
   "cell_type": "markdown",
   "metadata": {
    "slideshow": {
     "slide_type": "slide"
    }
   },
   "source": [
    "**Set the path and import the extended datatype.**"
   ]
  },
  {
   "cell_type": "code",
   "execution_count": null,
   "metadata": {},
   "outputs": [],
   "source": [
    "import os\n",
    "# set the current working directory to the project parent.\n",
    "os.chdir(os.path.abspath(os.path.join(os.getcwd(), os.pardir)))"
   ]
  },
  {
   "cell_type": "code",
   "execution_count": null,
   "metadata": {
    "slideshow": {
     "slide_type": "fragment"
    }
   },
   "outputs": [],
   "source": [
    "from S3MPython.xdt import XdOrdinalType"
   ]
  },
  {
   "cell_type": "markdown",
   "metadata": {
    "slideshow": {
     "slide_type": "slide"
    }
   },
   "source": [
    "Review the documentation of XdOrdinalType. "
   ]
  },
  {
   "cell_type": "code",
   "execution_count": null,
   "metadata": {
    "scrolled": false,
    "slideshow": {
     "slide_type": "slide"
    }
   },
   "outputs": [],
   "source": [
    "help(XdOrdinalType)"
   ]
  },
  {
   "cell_type": "markdown",
   "metadata": {
    "slideshow": {
     "slide_type": "slide"
    }
   },
   "source": [
    "Create a XdOrdinal model instance. We must provide a *label* and the *choices* (for the *ordinals & symbols*) at creation time. Each choice entry is a tuple. The tuples are added to a dictionary. The keys should be numeric and serve as the *ordinal* values. The tuples represent the *symbol* value and a semantic link (URI) used to describe the meaning of the symbol value. "
   ]
  },
  {
   "cell_type": "code",
   "execution_count": null,
   "metadata": {},
   "outputs": [],
   "source": [
    "c = {}\n",
    "c[0] = ('lo','https://s3model.com/examples/lo')\n",
    "c[1] = ('mid','https://s3model.com/examples/mid')\n",
    "c[2] = ('hi','https://s3model.com/examples/hi')\n",
    "    \n",
    "d = XdOrdinalType(\"Severity Level\", c)\n",
    "d.docs = \"Select a severity level.\"\n",
    "d.definition_url = 'http://s3model.com/examples/'\n",
    "\n",
    "print(d)"
   ]
  },
  {
   "cell_type": "code",
   "execution_count": null,
   "metadata": {
    "scrolled": false
   },
   "outputs": [],
   "source": [
    "d.published = True\n",
    "print(d.getModel())"
   ]
  },
  {
   "cell_type": "markdown",
   "metadata": {},
   "source": [
    "Here we mimic a UI where the normal status is set and one of the ordinals is chosen."
   ]
  },
  {
   "cell_type": "code",
   "execution_count": null,
   "metadata": {},
   "outputs": [],
   "source": [
    "d.normal_status = 'mid'\n",
    "d.ordinal = 1\n",
    "print(d.getXMLInstance())"
   ]
  }
 ],
 "metadata": {
  "kernelspec": {
   "display_name": "Python 3 (ipykernel)",
   "language": "python",
   "name": "python3"
  },
  "language_info": {
   "codemirror_mode": {
    "name": "ipython",
    "version": 3
   },
   "file_extension": ".py",
   "mimetype": "text/x-python",
   "name": "python",
   "nbconvert_exporter": "python",
   "pygments_lexer": "ipython3",
   "version": "3.9.7"
  }
 },
 "nbformat": 4,
 "nbformat_minor": 2
}
