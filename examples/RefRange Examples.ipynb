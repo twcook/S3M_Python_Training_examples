{
 "cells": [
  {
   "cell_type": "markdown",
   "metadata": {
    "slideshow": {
     "slide_type": "slide"
    }
   },
   "source": [
    "# Examples using the ReferenceRangeType & XdIntervalType"
   ]
  },
  {
   "cell_type": "markdown",
   "metadata": {
    "slideshow": {
     "slide_type": "slide"
    }
   },
   "source": [
    "**Set the path and import the extended datatype.**"
   ]
  },
  {
   "cell_type": "code",
   "execution_count": 37,
   "metadata": {},
   "outputs": [],
   "source": [
    "import os\n",
    "# set the current working directory to the project parent.\n",
    "os.chdir(os.path.abspath(os.path.join(os.getcwd(), os.pardir)))"
   ]
  },
  {
   "cell_type": "code",
   "execution_count": 38,
   "metadata": {
    "slideshow": {
     "slide_type": "fragment"
    }
   },
   "outputs": [],
   "source": [
    "from decimal import Decimal\n",
    "from S3MPython.utils import xsdstub, xmlstub\n",
    "from S3MPython.xdt import XdQuantityType, XdStringType, XdIntervalType, ReferenceRangeType"
   ]
  },
  {
   "cell_type": "markdown",
   "metadata": {},
   "source": [
    "The **XdIntervalType** is a generic type that defines an interval (i.e., range) of a comparable nature. An interval is a contiguous subrange of an equivalent base type. Used to determine intervals of dates, times, quantities, etc. Whose datatypes are the same and are ordered. In S3Model, this type is primarily used in defining an interval for reference ranges."
   ]
  },
  {
   "cell_type": "markdown",
   "metadata": {
    "slideshow": {
     "slide_type": "slide"
    }
   },
   "source": [
    "Review the documentation of XdIntervalType."
   ]
  },
  {
   "cell_type": "code",
   "execution_count": 39,
   "metadata": {
    "scrolled": false,
    "slideshow": {
     "slide_type": "slide"
    }
   },
   "outputs": [
    {
     "name": "stdout",
     "output_type": "stream",
     "text": [
      "Help on class XdIntervalType in module S3MPython.xdt:\n",
      "\n",
      "class XdIntervalType(XdAnyType)\n",
      " |  XdIntervalType(label: str, invltype: str)\n",
      " |  \n",
      " |  Generic type defining an interval (i.e. range) of a comparable type.\n",
      " |  \n",
      " |  An interval is a contiguous subrange of a comparable base type.\n",
      " |  Used to define intervals of dates, times, quantities, etc. whose\n",
      " |  datatypes are the same and are ordered.\n",
      " |  \n",
      " |  In S3Model, they are primarily used in defining reference ranges.\n",
      " |  The datatype of upper and lower must be set in the model via the invltype\n",
      " |  attribute.\n",
      " |  \n",
      " |  Method resolution order:\n",
      " |      XdIntervalType\n",
      " |      XdAnyType\n",
      " |      abc.ABC\n",
      " |      builtins.object\n",
      " |  \n",
      " |  Methods defined here:\n",
      " |  \n",
      " |  __init__(self, label: str, invltype: str)\n",
      " |      Initialization for Xd* datatypes in S3Model.\n",
      " |      \n",
      " |      The semantic label (name of the model) is required.\n",
      " |  \n",
      " |  getModel(self)\n",
      " |      Return a XML Schema complexType definition.\n",
      " |  \n",
      " |  getXMLInstance(self, example=False)\n",
      " |      Return an example XML fragment for this model.\n",
      " |  \n",
      " |  validate(self)\n",
      " |      Every XdType must implement this method.\n",
      " |  \n",
      " |  ----------------------------------------------------------------------\n",
      " |  Data descriptors defined here:\n",
      " |  \n",
      " |  interval_units\n",
      " |      Defines the units for this Interval.\n",
      " |      \n",
      " |      A two member tuple consisting of the units name/abbreviation\n",
      " |      and a URI used as a definition.\n",
      " |      Example:\n",
      " |      ('kg', 'https://www.ema.europa.eu/documents/scientific-guideline/ich-m-5-ewg-units-measurements-controlled-vocabulary-step-5_en.pdf#0074')\n",
      " |  \n",
      " |  lower\n",
      " |      Defines the lower value of the interval.\n",
      " |  \n",
      " |  lower_bounded\n",
      " |      Is the lower value of the interval bounded?\n",
      " |      Default is True.\n",
      " |  \n",
      " |  lower_included\n",
      " |      Is the lower value of the interval inclusive?\n",
      " |      Default is True.\n",
      " |  \n",
      " |  upper\n",
      " |      Defines the upper value of the interval.\n",
      " |  \n",
      " |  upper_bounded\n",
      " |      Is the upper value of the interval bounded?\n",
      " |      Default is True.\n",
      " |  \n",
      " |  upper_included\n",
      " |      Is the upper value of the interval inclusive?\n",
      " |      Default is True.\n",
      " |  \n",
      " |  ----------------------------------------------------------------------\n",
      " |  Data and other attributes defined here:\n",
      " |  \n",
      " |  __abstractmethods__ = frozenset()\n",
      " |  \n",
      " |  invlTypes = (<class 'int'>, <class 'decimal.Decimal'>, <class 'datetim...\n",
      " |  \n",
      " |  ----------------------------------------------------------------------\n",
      " |  Methods inherited from XdAnyType:\n",
      " |  \n",
      " |  __str__(self)\n",
      " |      Return str(self).\n",
      " |  \n",
      " |  getJSONInstance(self, example=False)\n",
      " |      Return an example JSON fragment for this model.\n",
      " |  \n",
      " |  ----------------------------------------------------------------------\n",
      " |  Readonly properties inherited from XdAnyType:\n",
      " |  \n",
      " |  acuid\n",
      " |      The unique identifier of the wrapping XdAdapter of the component.\n",
      " |  \n",
      " |  label\n",
      " |      The semantic name of the component.\n",
      " |      \n",
      " |      REQUIRED\n",
      " |  \n",
      " |  mcuid\n",
      " |      The unique identifier of the component.\n",
      " |  \n",
      " |  ----------------------------------------------------------------------\n",
      " |  Data descriptors inherited from XdAnyType:\n",
      " |  \n",
      " |  __dict__\n",
      " |      dictionary for instance variables (if defined)\n",
      " |  \n",
      " |  __weakref__\n",
      " |      list of weak references to the object (if defined)\n",
      " |  \n",
      " |  act\n",
      " |      Access Control Tag. \n",
      " |      \n",
      " |      If this is used it must contain a valid term from the Access Control System linked \n",
      " |      to by the containing Data Model 'acs' attribute. It is available as the ACS imported\n",
      " |      from s3m_dm.\n",
      " |  \n",
      " |  adapter\n",
      " |      When True, creates an XdAdapterType wrapper.\n",
      " |  \n",
      " |  cardinality\n",
      " |      The cardinality status values.\n",
      " |      \n",
      " |      The setter method can be called by each subclass to add cardinality\n",
      " |      values for each element or change the defaults.\n",
      " |      Some elements cardinality may not be changed.\n",
      " |      Ex: XdBoolean elements are not modifiable.\n",
      " |      \n",
      " |      The cardinality dictionary uses a string representation of each\n",
      " |      property name and a list as the value.\n",
      " |      \n",
      " |      The value passed into the setter is a tuple with v[0] as a string (key) and\n",
      " |      v[1] as a list containing an integer set representing the\n",
      " |      (minimum, maximum) values. The entire value list is replaced in the dictionary.\n",
      " |      \n",
      " |      Examples\n",
      " |      --------\n",
      " |      \n",
      " |      ('vtb', [1,1]) will set the vtb value to be required.\n",
      " |      \n",
      " |      \n",
      " |      NOTES\n",
      " |      -----\n",
      " |      \n",
      " |      The cardinality for latitude and longitude are combined into one\n",
      " |      setting called 'location'.\n",
      " |      \n",
      " |      The Python value of 'None' represents the 'unbounded' XML Schema value.\n",
      " |      None is converted to Decimal('Infinity') for comparisons.\n",
      " |      The 'unbounded' value is allowed on only a few attributes.\n",
      " |  \n",
      " |  definition_url\n",
      " |      The primary definition URL for the model.\n",
      " |      Cannot be an IP address.\n",
      " |      \n",
      " |      REQUIRED\n",
      " |  \n",
      " |  docs\n",
      " |      The human readable documentation string describing the purpose of\n",
      " |      the model.\n",
      " |  \n",
      " |  ev\n",
      " |      In an invalid instance, the application can indicate here why data is\n",
      " |      missing or invalid. This is a list of ExceptionalValue subclasses.\n",
      " |      \n",
      " |      The sub-types are based on ISO 21090 NULL Flavors entries, with\n",
      " |      additions noted from real-world usage.\n",
      " |  \n",
      " |  latitude\n",
      " |      Latitude in decimal format. Value range -90.000000 to 90.000000.\n",
      " |  \n",
      " |  longitude\n",
      " |      Longitude in decimal format. Value range -180.000000 to 180.000000.\n",
      " |  \n",
      " |  modified\n",
      " |      Time Modified. If present this must be a valid date-time stamp.\n",
      " |      It is used to indicate the date and time the data was last changed.\n",
      " |  \n",
      " |  pred_obj_list\n",
      " |      A list of additional predicate object pairs to describe the component.\n",
      " |      \n",
      " |      Each list item is a tuple where 0 is the predicate and 1 is the object.\n",
      " |      \n",
      " |      Example:\n",
      " |      ('rdf:resource','https://www.niddk.nih.gov/health-information/health-statistics')\n",
      " |      The setter accepts the tuple and appends it to the list.\n",
      " |      If an empty list is supplied it resets the value to the empty list.\n",
      " |  \n",
      " |  published\n",
      " |      When True, prevents further model changes.\n",
      " |  \n",
      " |  tr\n",
      " |      Time Recorded. If present this must be a valid date-time.\n",
      " |      It is used to indicate the initial date and time the data was recorded.\n",
      " |  \n",
      " |  vtb\n",
      " |      Valid Time Begin. If present this must be a valid datetime including timezone.\n",
      " |      It is used to indicate the beginning time that information is considered valid.\n",
      " |  \n",
      " |  vte\n",
      " |      Valid Time End. If present this must be a valid date-time including timezone.\n",
      " |      It is used to indicate the ending time that information is considered valid\n",
      " |      or the time the information expired or will expire.\n",
      "\n"
     ]
    }
   ],
   "source": [
    "help(XdIntervalType)"
   ]
  },
  {
   "cell_type": "markdown",
   "metadata": {},
   "source": [
    "The **ReferenceRangeType** type defines a named range associated with any ordered data..\n",
    "\n",
    "Each such range is sensitive to the context, e.g., sex, age, location, and any other factor which affects ranges. May be used to representing high, low, normal, therapeutic, dangerous, critical, etc. ranges that are constrained by an interval represesnted in an **XdIntervalType**"
   ]
  },
  {
   "cell_type": "markdown",
   "metadata": {
    "slideshow": {
     "slide_type": "slide"
    }
   },
   "source": [
    "Review the documentation of ReferenceRangeType."
   ]
  },
  {
   "cell_type": "code",
   "execution_count": 40,
   "metadata": {
    "scrolled": false,
    "slideshow": {
     "slide_type": "slide"
    }
   },
   "outputs": [
    {
     "name": "stdout",
     "output_type": "stream",
     "text": [
      "Help on class ReferenceRangeType in module S3MPython.xdt:\n",
      "\n",
      "class ReferenceRangeType(XdAnyType)\n",
      " |  ReferenceRangeType(label)\n",
      " |  \n",
      " |  Defines a named range to be associated with any ORDERED datum. Each such range is sensitive to the context,\n",
      " |  e.g. sex, age, location, and any other factor which affects ranges.\n",
      " |  May be used to represent high, low, normal, therapeutic, dangerous, critical, etc. ranges that are constrained by an interval.\n",
      " |  \n",
      " |  Method resolution order:\n",
      " |      ReferenceRangeType\n",
      " |      XdAnyType\n",
      " |      abc.ABC\n",
      " |      builtins.object\n",
      " |  \n",
      " |  Methods defined here:\n",
      " |  \n",
      " |  __init__(self, label)\n",
      " |      Initialization for Xd* datatypes in S3Model.\n",
      " |      \n",
      " |      The semantic label (name of the model) is required.\n",
      " |  \n",
      " |  getModel(self)\n",
      " |      Return a XML Schema complexType definition.\n",
      " |  \n",
      " |  getXMLInstance(self, example=False)\n",
      " |      Return an example XML fragment for this model.\n",
      " |  \n",
      " |  validate(self)\n",
      " |      Every XdType must implement this method.\n",
      " |  \n",
      " |  ----------------------------------------------------------------------\n",
      " |  Data descriptors defined here:\n",
      " |  \n",
      " |  definition\n",
      " |      Term whose value indicates the meaning of this range, e.g. 'normal', 'critical', 'therapeutic' etc.\n",
      " |  \n",
      " |  interval\n",
      " |      The data range for this reference range.\n",
      " |  \n",
      " |  is_normal\n",
      " |      True if this reference range defines values that are considered to be normal. In the context of the value in the definition element.\n",
      " |  \n",
      " |  ----------------------------------------------------------------------\n",
      " |  Data and other attributes defined here:\n",
      " |  \n",
      " |  __abstractmethods__ = frozenset()\n",
      " |  \n",
      " |  ----------------------------------------------------------------------\n",
      " |  Methods inherited from XdAnyType:\n",
      " |  \n",
      " |  __str__(self)\n",
      " |      Return str(self).\n",
      " |  \n",
      " |  getJSONInstance(self, example=False)\n",
      " |      Return an example JSON fragment for this model.\n",
      " |  \n",
      " |  ----------------------------------------------------------------------\n",
      " |  Readonly properties inherited from XdAnyType:\n",
      " |  \n",
      " |  acuid\n",
      " |      The unique identifier of the wrapping XdAdapter of the component.\n",
      " |  \n",
      " |  label\n",
      " |      The semantic name of the component.\n",
      " |      \n",
      " |      REQUIRED\n",
      " |  \n",
      " |  mcuid\n",
      " |      The unique identifier of the component.\n",
      " |  \n",
      " |  ----------------------------------------------------------------------\n",
      " |  Data descriptors inherited from XdAnyType:\n",
      " |  \n",
      " |  __dict__\n",
      " |      dictionary for instance variables (if defined)\n",
      " |  \n",
      " |  __weakref__\n",
      " |      list of weak references to the object (if defined)\n",
      " |  \n",
      " |  act\n",
      " |      Access Control Tag. \n",
      " |      \n",
      " |      If this is used it must contain a valid term from the Access Control System linked \n",
      " |      to by the containing Data Model 'acs' attribute. It is available as the ACS imported\n",
      " |      from s3m_dm.\n",
      " |  \n",
      " |  adapter\n",
      " |      When True, creates an XdAdapterType wrapper.\n",
      " |  \n",
      " |  cardinality\n",
      " |      The cardinality status values.\n",
      " |      \n",
      " |      The setter method can be called by each subclass to add cardinality\n",
      " |      values for each element or change the defaults.\n",
      " |      Some elements cardinality may not be changed.\n",
      " |      Ex: XdBoolean elements are not modifiable.\n",
      " |      \n",
      " |      The cardinality dictionary uses a string representation of each\n",
      " |      property name and a list as the value.\n",
      " |      \n",
      " |      The value passed into the setter is a tuple with v[0] as a string (key) and\n",
      " |      v[1] as a list containing an integer set representing the\n",
      " |      (minimum, maximum) values. The entire value list is replaced in the dictionary.\n",
      " |      \n",
      " |      Examples\n",
      " |      --------\n",
      " |      \n",
      " |      ('vtb', [1,1]) will set the vtb value to be required.\n",
      " |      \n",
      " |      \n",
      " |      NOTES\n",
      " |      -----\n",
      " |      \n",
      " |      The cardinality for latitude and longitude are combined into one\n",
      " |      setting called 'location'.\n",
      " |      \n",
      " |      The Python value of 'None' represents the 'unbounded' XML Schema value.\n",
      " |      None is converted to Decimal('Infinity') for comparisons.\n",
      " |      The 'unbounded' value is allowed on only a few attributes.\n",
      " |  \n",
      " |  definition_url\n",
      " |      The primary definition URL for the model.\n",
      " |      Cannot be an IP address.\n",
      " |      \n",
      " |      REQUIRED\n",
      " |  \n",
      " |  docs\n",
      " |      The human readable documentation string describing the purpose of\n",
      " |      the model.\n",
      " |  \n",
      " |  ev\n",
      " |      In an invalid instance, the application can indicate here why data is\n",
      " |      missing or invalid. This is a list of ExceptionalValue subclasses.\n",
      " |      \n",
      " |      The sub-types are based on ISO 21090 NULL Flavors entries, with\n",
      " |      additions noted from real-world usage.\n",
      " |  \n",
      " |  latitude\n",
      " |      Latitude in decimal format. Value range -90.000000 to 90.000000.\n",
      " |  \n",
      " |  longitude\n",
      " |      Longitude in decimal format. Value range -180.000000 to 180.000000.\n",
      " |  \n",
      " |  modified\n",
      " |      Time Modified. If present this must be a valid date-time stamp.\n",
      " |      It is used to indicate the date and time the data was last changed.\n",
      " |  \n",
      " |  pred_obj_list\n",
      " |      A list of additional predicate object pairs to describe the component.\n",
      " |      \n",
      " |      Each list item is a tuple where 0 is the predicate and 1 is the object.\n",
      " |      \n",
      " |      Example:\n",
      " |      ('rdf:resource','https://www.niddk.nih.gov/health-information/health-statistics')\n",
      " |      The setter accepts the tuple and appends it to the list.\n",
      " |      If an empty list is supplied it resets the value to the empty list.\n",
      " |  \n",
      " |  published\n",
      " |      When True, prevents further model changes.\n",
      " |  \n",
      " |  tr\n",
      " |      Time Recorded. If present this must be a valid date-time.\n",
      " |      It is used to indicate the initial date and time the data was recorded.\n",
      " |  \n",
      " |  vtb\n",
      " |      Valid Time Begin. If present this must be a valid datetime including timezone.\n",
      " |      It is used to indicate the beginning time that information is considered valid.\n",
      " |  \n",
      " |  vte\n",
      " |      Valid Time End. If present this must be a valid date-time including timezone.\n",
      " |      It is used to indicate the ending time that information is considered valid\n",
      " |      or the time the information expired or will expire.\n",
      "\n"
     ]
    }
   ],
   "source": [
    "help(ReferenceRangeType)"
   ]
  },
  {
   "cell_type": "markdown",
   "metadata": {
    "slideshow": {
     "slide_type": "slide"
    }
   },
   "source": [
    "[Reference ranges](https://en.wikipedia.org/wiki/Reference_range) can be used with any Ordered type. \n",
    "\n",
    "In this tutorial we will use a XdQuantityType model instance to build a model for recording [Total cholesterol](https://en.wikipedia.org/wiki/Reference_ranges_for_blood_tests#Lipids). A real world example would build a Cluster for the entire Lipids table shown from the previous link. We also assume that this is part of a full electronic record and the person's date of birth (age) and sex (male/female) are recorded elsewhere. Normally the semantic definitions will be related directly to accepted clinical guidelines, not Wikipedia, etc. links as we do here for simplicity.\n",
    "\n",
    "We need a units (*XdStringType*) object to select either; mmol/L or mg/dL. \n",
    "\n",
    "We need six reference ranges, one for each units choice available and one for each range; *desireable*, *borderline* and *high*. Ideally there will be reference ranges defined for each age group as well as by gender. That is overkill for our basic tutorial purposes.\n"
   ]
  },
  {
   "cell_type": "code",
   "execution_count": 41,
   "metadata": {},
   "outputs": [
    {
     "name": "stdout",
     "output_type": "stream",
     "text": [
      "XdStringType : Concentration Units, ID: cky7slk8u002sw4pw4k28133v Published: True\n"
     ]
    }
   ],
   "source": [
    "# create the units model\n",
    "u = XdStringType('Concentration Units')\n",
    "u.docs = \"Select the concentration units.\"\n",
    "u.definition_url = 'https://chem.libretexts.org/Textbook_Maps/Analytical_Chemistry/Book%3A_Analytical_Chemistry_2.0_(Harvey)/02_Basic_Tools_of_Analytical_Chemistry/2.2%3A_Concentration'\n",
    "# create the units options\n",
    "enums = []\n",
    "enums.append(('mmol/L', 'https://en.wikipedia.org/wiki/Molar_concentration#Units/mmol/L'))\n",
    "enums.append(('mg/dL', 'https://en.wikipedia.org/wiki/Molar_concentration#Units/mg/dL'))\n",
    "# note that we need to create URIs for each unit since they often do not exist\n",
    "u.enums = enums\n",
    "u.published = True\n",
    "\n",
    "print(u)"
   ]
  },
  {
   "cell_type": "code",
   "execution_count": 42,
   "metadata": {},
   "outputs": [
    {
     "name": "stdout",
     "output_type": "stream",
     "text": [
      "XdQuantityType : Total Cholesterol, ID: cky7slnpu002uw4pw9zhut62m Published: False\n"
     ]
    }
   ],
   "source": [
    "# Create the Quantity model\n",
    "d = XdQuantityType(\"Total Cholesterol\")\n",
    "d.docs = \"Record the concentration of cholesterol.\"\n",
    "d.definition_url = 'https://en.wikipedia.org/wiki/Cholesterol#Cholesterol_testing'\n",
    "d.units = u\n",
    "d.min_inclusive = 0  # can't have a negative amount\n",
    "d.max_inclusive = 500  # this would clearly be out of range\n",
    "d.fraction_digits = 1 # limit the decimal places\n",
    "d.total_digits = 5\n",
    "\n",
    "print(d)"
   ]
  },
  {
   "cell_type": "code",
   "execution_count": 43,
   "metadata": {},
   "outputs": [
    {
     "name": "stdout",
     "output_type": "stream",
     "text": [
      "XdIntervalType : TCDR (mmol/L), ID: cky7slray002yw4pwaecec4z5 Published: True\n",
      "ReferenceRangeType : Total Cholesterol Desireable Range (mmol/L), ID: cky7slrax002ww4pwgyxqsjte Published: True\n"
     ]
    }
   ],
   "source": [
    "# define reference ranges and intervals for the Desireable range\n",
    "mmol = ReferenceRangeType(\"Total Cholesterol Desireable Range (mmol/L)\")\n",
    "mmol.definition_url = 'https://www.mayoclinic.org/tests-procedures/cholesterol-test/about/pac-20384601#desireable/mmol'\n",
    "mmol.is_normal = True # this is considered the normal/desired range\n",
    "\n",
    "i = XdIntervalType(\"TCDR (mmol/L)\", Decimal)\n",
    "i.interval_units = ('mmol/L','https://en.wikipedia.org/wiki/Molar_concentration#Units/mmol/L')\n",
    "i.definition_url = 'https://www.mayoclinic.org/tests-procedures/cholesterol-test/interval'\n",
    "\n",
    "# be sure to pass upper/lower as a string. It is coerced into the correct type upon assignment\n",
    "i.lower = '0'\n",
    "i.upper = '5.2'\n",
    "i.upper_included = False\n",
    "i.published = True\n",
    "\n",
    "mmol.interval = i\n",
    "mmol.published = True\n",
    "d.referenceranges = mmol\n",
    "\n",
    "print(i) # the XdIntervalType model\n",
    "print(mmol) # the Reference range model"
   ]
  },
  {
   "cell_type": "code",
   "execution_count": 44,
   "metadata": {},
   "outputs": [
    {
     "name": "stdout",
     "output_type": "stream",
     "text": [
      "XdIntervalType : TCDR (mg/dL), ID: cky7slue70032w4pwnceo4o95 Published: True\n",
      "ReferenceRangeType : Total Cholesterol Desireable Range (mg/dL), ID: cky7slue70030w4pw6p5vzdcg Published: True\n"
     ]
    }
   ],
   "source": [
    "mg = ReferenceRangeType(\"Total Cholesterol Desireable Range (mg/dL)\")\n",
    "mg.definition_url = 'https://www.mayoclinic.org/tests-procedures/cholesterol-test/about/pac-20384601#desireable/mg'\n",
    "mg.is_normal = True # this is considered the normal/desired range\n",
    "i = XdIntervalType(\"TCDR (mg/dL)\", Decimal)\n",
    "i.interval_units = ('mg/dL','https://en.wikipedia.org/wiki/Molar_concentration#Units/mg/dL')\n",
    "i.definition_url = 'https://www.mayoclinic.org/tests-procedures/cholesterol-test/interval'\n",
    "\n",
    "i.lower = '0'\n",
    "i.upper = '200'\n",
    "i.upper_included = False\n",
    "i.lower_included = False\n",
    "i.published = True\n",
    "mg.interval = i\n",
    "mg.published = True\n",
    "d.referenceranges = mg\n",
    "\n",
    "print(i)\n",
    "print(mg)"
   ]
  },
  {
   "cell_type": "code",
   "execution_count": 45,
   "metadata": {},
   "outputs": [
    {
     "name": "stdout",
     "output_type": "stream",
     "text": [
      "XdIntervalType : TCBR (mmol/L), ID: cky7sm51f0036w4pw1pf9dk1a Published: True\n",
      "ReferenceRangeType : Total Cholesterol Borderline high Range (mmol/L), ID: cky7sm51f0034w4pw2w8v18t9 Published: True\n"
     ]
    }
   ],
   "source": [
    "# define two reference ranges for the Borderline high range\n",
    "mmol = ReferenceRangeType(\"Total Cholesterol Borderline high Range (mmol/L)\")\n",
    "mmol.definition_url = 'https://www.mayoclinic.org/tests-procedures/cholesterol-test/about/pac-20384601#Borderlinehigh/mmol'\n",
    "i = XdIntervalType(\"TCBR (mmol/L)\", Decimal)\n",
    "i.interval_units = ('mmol/L','https://en.wikipedia.org/wiki/Molar_concentration#Units/mmol/L')\n",
    "i.definition_url = 'https://www.mayoclinic.org/tests-procedures/cholesterol-test/interval'\n",
    "\n",
    "i.lower = '5.2'\n",
    "i.upper = '6.2'\n",
    "i.upper_included = True\n",
    "i.lower_included = True\n",
    "i.published = True\n",
    "mmol.interval = i\n",
    "mmol.published = True\n",
    "d.referenceranges = mmol\n",
    "\n",
    "\n",
    "print(i)\n",
    "print(mmol)"
   ]
  },
  {
   "cell_type": "code",
   "execution_count": 46,
   "metadata": {},
   "outputs": [
    {
     "name": "stdout",
     "output_type": "stream",
     "text": [
      "XdIntervalType : TCBR (mg/dL), ID: cky7sma4m003aw4pwqaeqak9r Published: True\n",
      "ReferenceRangeType : Total Cholesterol Borderline high Range (mg/dL), ID: cky7sma4m0038w4pwl3ekmb38 Published: True\n"
     ]
    }
   ],
   "source": [
    "mg = ReferenceRangeType(\"Total Cholesterol Borderline high Range (mg/dL)\")\n",
    "mg.definition_url = 'https://www.mayoclinic.org/tests-procedures/cholesterol-test/about/pac-20384601#Borderlinehigh/mg'\n",
    "i = XdIntervalType(\"TCBR (mg/dL)\", Decimal)\n",
    "i.interval_units = ('mg/dL','https://en.wikipedia.org/wiki/Molar_concentration#Units/mg/dL')\n",
    "i.definition_url = 'https://www.mayoclinic.org/tests-procedures/cholesterol-test/interval'\n",
    "\n",
    "i.lower = '200'\n",
    "i.upper = '239'\n",
    "i.upper_included = True\n",
    "i.lower_included = True\n",
    "i.published = True\n",
    "mg.interval = i\n",
    "mg.published = True\n",
    "d.referenceranges = mg\n",
    "\n",
    "print(i)\n",
    "print(mg)"
   ]
  },
  {
   "cell_type": "code",
   "execution_count": 47,
   "metadata": {},
   "outputs": [
    {
     "name": "stdout",
     "output_type": "stream",
     "text": [
      "XdIntervalType : TCHR (mmol/L), ID: cky7smh23003ew4pwu7dzy0ta Published: True\n",
      "ReferenceRangeType : Total Cholesterol High Range (mmol/L), ID: cky7smh22003cw4pwb9jvfno8 Published: True\n"
     ]
    }
   ],
   "source": [
    "# define two reference ranges for the High range\n",
    "mmol = ReferenceRangeType(\"Total Cholesterol High Range (mmol/L)\")\n",
    "mmol.definition_url = 'https://www.mayoclinic.org/tests-procedures/cholesterol-test/about/pac-20384601#high/mmol'\n",
    "i = XdIntervalType(\"TCHR (mmol/L)\", Decimal)\n",
    "i.interval_units = ('mmol/L','https://en.wikipedia.org/wiki/Molar_concentration#Units/mmol/L')\n",
    "i.definition_url = 'https://www.mayoclinic.org/tests-procedures/cholesterol-test/interval'\n",
    "\n",
    "i.lower = '6.2'\n",
    "i.lower_included = False\n",
    "i.upper_bounded = False\n",
    "i.published = True\n",
    "mmol.interval = i\n",
    "mmol.published = True\n",
    "d.referenceranges = mmol\n",
    "\n",
    "\n",
    "print(i)\n",
    "print(mmol)"
   ]
  },
  {
   "cell_type": "code",
   "execution_count": 48,
   "metadata": {},
   "outputs": [
    {
     "name": "stdout",
     "output_type": "stream",
     "text": [
      "XdIntervalType : TCHR (mg/dL), ID: cky7smlhy003iw4pw4l7xqyl9 Published: True\n",
      "ReferenceRangeType : Total Cholesterol High Range (mg/dL), ID: cky7smlhx003gw4pw1jqjmdxv Published: True\n",
      "XdQuantityType : Total Cholesterol, ID: cky7slnpu002uw4pw9zhut62m Published: True\n"
     ]
    }
   ],
   "source": [
    "mg = ReferenceRangeType(\"Total Cholesterol High Range (mg/dL)\")\n",
    "mg.definition_url = 'https://www.mayoclinic.org/tests-procedures/cholesterol-test/about/pac-20384601#high/mg'\n",
    "i = XdIntervalType(\"TCHR (mg/dL)\", Decimal)\n",
    "i.interval_units = ('mg/dL','https://en.wikipedia.org/wiki/Molar_concentration#Units/mg/dL')\n",
    "i.definition_url = 'https://www.mayoclinic.org/tests-procedures/cholesterol-test/interval'\n",
    "\n",
    "i.lower = '240'\n",
    "i.lower_included = False\n",
    "i.upper_bounded = False\n",
    "i.published = True\n",
    "mg.interval = i\n",
    "mg.published = True\n",
    "d.referenceranges = mg\n",
    "d.published = True\n",
    "\n",
    "print(i)\n",
    "print(mg)\n",
    "print(d)"
   ]
  },
  {
   "cell_type": "markdown",
   "metadata": {},
   "source": [
    "Examine the model. Here we write the model stub (it is not a complete S3Model Data Model) as a file named stub.xsd. "
   ]
  },
  {
   "cell_type": "code",
   "execution_count": 49,
   "metadata": {
    "scrolled": false
   },
   "outputs": [
    {
     "name": "stdout",
     "output_type": "stream",
     "text": [
      "Writing model for  XdQuantityType : Total Cholesterol, ID: cky7slnpu002uw4pw9zhut62m Published: True  to stub.xsd\n"
     ]
    }
   ],
   "source": [
    "xsdstub(d)"
   ]
  },
  {
   "cell_type": "markdown",
   "metadata": {},
   "source": [
    "When you view the XML Schema model notice that the required namespaces are wrapped using a *root* element. This *root* element is not part of S3Model. It is only used here so that we can demonstrate validation of the generated stub.xml below. \n",
    "\n",
    "We need to add data before creating a XML instance.  \n"
   ]
  },
  {
   "cell_type": "code",
   "execution_count": 50,
   "metadata": {
    "scrolled": true
   },
   "outputs": [
    {
     "name": "stdout",
     "output_type": "stream",
     "text": [
      "Writing data instance for  XdQuantityType : Total Cholesterol, ID: cky7slnpu002uw4pw9zhut62m Published: True  to stub.xml\n"
     ]
    }
   ],
   "source": [
    "# Select a valid units value\n",
    "d.units.value = 'mg/dL'\n",
    "# enter a value\n",
    "d.value = 123.4\n",
    "\n",
    "xmlstub(d)"
   ]
  },
  {
   "cell_type": "markdown",
   "metadata": {},
   "source": [
    "There are now two files; stub.xsd and stub.xml, in your *examples* directory. You can use any XML validation tool on stub.xml to validate it against stub.xsd."
   ]
  }
 ],
 "metadata": {
  "kernelspec": {
   "display_name": "Python 3 (ipykernel)",
   "language": "python",
   "name": "python3"
  },
  "language_info": {
   "codemirror_mode": {
    "name": "ipython",
    "version": 3
   },
   "file_extension": ".py",
   "mimetype": "text/x-python",
   "name": "python",
   "nbconvert_exporter": "python",
   "pygments_lexer": "ipython3",
   "version": "3.9.7"
  }
 },
 "nbformat": 4,
 "nbformat_minor": 2
}
