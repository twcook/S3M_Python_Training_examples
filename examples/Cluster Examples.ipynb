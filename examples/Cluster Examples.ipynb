{
 "cells": [
  {
   "cell_type": "markdown",
   "metadata": {
    "slideshow": {
     "slide_type": "slide"
    }
   },
   "source": [
    "# Examples using the ClusterType"
   ]
  },
  {
   "cell_type": "markdown",
   "metadata": {},
   "source": [
    "The grouping component of ItemType, which may contain further instances of ItemType, in an ordered list. This can serve as the root component for arbitrarily complex structures used to model data content as well as data metadata components."
   ]
  },
  {
   "cell_type": "markdown",
   "metadata": {
    "slideshow": {
     "slide_type": "slide"
    }
   },
   "source": [
    "**Set the path and import the extended datatype.**"
   ]
  },
  {
   "cell_type": "code",
   "execution_count": 1,
   "metadata": {},
   "outputs": [],
   "source": [
    "import os\n",
    "# set the current working directory to the project parent.\n",
    "os.chdir(os.path.abspath(os.path.join(os.getcwd(), os.pardir)))"
   ]
  },
  {
   "cell_type": "code",
   "execution_count": 2,
   "metadata": {
    "slideshow": {
     "slide_type": "fragment"
    }
   },
   "outputs": [],
   "source": [
    "from S3MPython.utils import xsdstub, xmlstub\n",
    "from S3MPython.struct import ClusterType, XdAdapterType\n",
    "from S3MPython.xdt import XdStringType, XdTemporalType, XdOrdinalType, XdCountType"
   ]
  },
  {
   "cell_type": "markdown",
   "metadata": {
    "slideshow": {
     "slide_type": "slide"
    }
   },
   "source": [
    "Review the documentation of ClusterType."
   ]
  },
  {
   "cell_type": "code",
   "execution_count": 3,
   "metadata": {
    "scrolled": true,
    "slideshow": {
     "slide_type": "slide"
    }
   },
   "outputs": [
    {
     "name": "stdout",
     "output_type": "stream",
     "text": [
      "Help on class ClusterType in module S3MPython.struct:\n",
      "\n",
      "class ClusterType(ItemType)\n",
      " |  ClusterType(label)\n",
      " |  \n",
      " |  The grouping component, which may contain further instances of itself or \n",
      " |  any eXtended datatype, in an ordered list. \n",
      " |  \n",
      " |  This component serves as the root component for arbitrarily complex \n",
      " |  structures.\n",
      " |  \n",
      " |  Method resolution order:\n",
      " |      ClusterType\n",
      " |      ItemType\n",
      " |      abc.ABC\n",
      " |      builtins.object\n",
      " |  \n",
      " |  Methods defined here:\n",
      " |  \n",
      " |  __init__(self, label)\n",
      " |      The semantic label (name of the model) is required.\n",
      " |  \n",
      " |  getJSONInstance(self, example)\n",
      " |      Return a JSON instance for the Participation.\n",
      " |  \n",
      " |  getModel(self)\n",
      " |      Return a XML Schema stub for the Cluster.\n",
      " |  \n",
      " |  getXMLInstance(self, example)\n",
      " |      Return an XML fragment for this model.\n",
      " |  \n",
      " |  validate(self)\n",
      " |      Every Type must implement this method.\n",
      " |  \n",
      " |  ----------------------------------------------------------------------\n",
      " |  Readonly properties defined here:\n",
      " |  \n",
      " |  label\n",
      " |      The semantic name of the ClusterType.\n",
      " |  \n",
      " |  mcuid\n",
      " |      The unique identifier of the component.\n",
      " |  \n",
      " |  ----------------------------------------------------------------------\n",
      " |  Data descriptors defined here:\n",
      " |  \n",
      " |  definition_url\n",
      " |      The primary definition URL for the model.\n",
      " |      Cannot be an IP address.\n",
      " |  \n",
      " |  docs\n",
      " |      The human readable documentation string describing the purpose of\n",
      " |      the model.\n",
      " |  \n",
      " |  items\n",
      " |      The items contained in a Cluster.\n",
      " |  \n",
      " |  pred_obj_list\n",
      " |      A list of additional predicate object pairs to describe the component.\n",
      " |      \n",
      " |      Each list item is a tuple where 0 is the predicate and 1 is the object.\n",
      " |      \n",
      " |      Example:\n",
      " |      ('rdf:resource','https://www.niddk.nih.gov/health-information/health-statistics')\n",
      " |      The setter accepts the tuple and appends it to the list.\n",
      " |      If an empty list is supplied it resets the value to the empty list.\n",
      " |  \n",
      " |  ----------------------------------------------------------------------\n",
      " |  Data and other attributes defined here:\n",
      " |  \n",
      " |  __abstractmethods__ = frozenset()\n",
      " |  \n",
      " |  ----------------------------------------------------------------------\n",
      " |  Methods inherited from ItemType:\n",
      " |  \n",
      " |  __str__(self)\n",
      " |      Return str(self).\n",
      " |  \n",
      " |  ----------------------------------------------------------------------\n",
      " |  Data descriptors inherited from ItemType:\n",
      " |  \n",
      " |  __dict__\n",
      " |      dictionary for instance variables (if defined)\n",
      " |  \n",
      " |  __weakref__\n",
      " |      list of weak references to the object (if defined)\n",
      " |  \n",
      " |  published\n",
      " |      When True, prevents further model changes.\n",
      "\n"
     ]
    }
   ],
   "source": [
    "help(ClusterType)"
   ]
  },
  {
   "cell_type": "markdown",
   "metadata": {
    "slideshow": {
     "slide_type": "slide"
    }
   },
   "source": [
    "Create a Cluster instance and provide a *label*. A Cluster is the building block of data models. It allows the modeler to logical group XdTypes. Clusters can themselves contain Clusters to an infinite level. However, practical models will seldom have more than 2 or 3 levels of nesting. A XdAnyType subtype must be wrapped in an adapter (XdAdapterType) to be included in a ClusterType.\n",
    "\n",
    "For this example we will create a model for this data entry form.\n",
    "\n",
    "\n",
    "<div class=\"logo-container\">\n",
    "  <div class=\"logo\"><img src=\"images/Data-Entry-Form.png\" height=\"400\" width=\"400\"/></div>\n",
    "</div>"
   ]
  },
  {
   "cell_type": "code",
   "execution_count": 4,
   "metadata": {},
   "outputs": [],
   "source": [
    "ERF = ClusterType('Employee Record Form')\n",
    "ERF.definition_url = 'http://s3model.com/examples/ERF'"
   ]
  },
  {
   "cell_type": "code",
   "execution_count": 5,
   "metadata": {},
   "outputs": [
    {
     "name": "stdout",
     "output_type": "stream",
     "text": [
      "XdStringType : Record Action, ID: cleevm2jq0001ystj71tszsbh Published: True\n"
     ]
    }
   ],
   "source": [
    "# Use a XdStringType to capture the action\n",
    "choice = []\n",
    "choice.append(('Add New','https://s3model.com/examples/AddNewRecord'))\n",
    "choice.append(('Modify','https://s3model.com/examples/ModifyRecord'))\n",
    "choice.append(('Delete','https://s3model.com/examples/DeleteRecord'))\n",
    "\n",
    "action = XdStringType(\"Record Action\")\n",
    "action.docs = \"Select the action to perform.\"\n",
    "action.definition_url = 'http://s3model.com/examples/action_choice'\n",
    "action.enums = choice\n",
    "action.published = True\n",
    "print(action)"
   ]
  },
  {
   "cell_type": "markdown",
   "metadata": {},
   "source": [
    "Use a regular expression to limit the Employee Number to one character of A,B,C,D or E and 5 digits.\n",
    "\n",
    "Examples: A09098, D76547, etc.\n"
   ]
  },
  {
   "cell_type": "code",
   "execution_count": 6,
   "metadata": {},
   "outputs": [],
   "source": [
    "empnum = XdStringType('Employee Number')\n",
    "empnum.docs = 'An employee number consists of a single character department code (A-E) and 5 digits (0-9).'\n",
    "empnum.definition_url = 'https://s3model.com/examples/EmployeeNumber'\n",
    "empnum.regex = '[A-E]{1}[0-9]{5}'\n",
    "empnum.published = True"
   ]
  },
  {
   "cell_type": "code",
   "execution_count": 7,
   "metadata": {},
   "outputs": [
    {
     "name": "stdout",
     "output_type": "stream",
     "text": [
      "XdTemporalType : Date of Joining, ID: cleevm2km0005ystj1db6541g Published: True\n"
     ]
    }
   ],
   "source": [
    "joined = XdTemporalType(\"Date of Joining\")\n",
    "joined.docs = \"Require a full date. Disallow all others.\"\n",
    "joined.definition_url = 'http://s3model.com/examples/joindate'\n",
    "joined.cardinality = ('date', [1,1])\n",
    "joined.cardinality = ('time', [0,0])\n",
    "joined.cardinality = ('datetime', [0,0])\n",
    "joined.cardinality = ('day', [0,0])\n",
    "joined.cardinality = ('month', [0,0])\n",
    "joined.cardinality = ('year', [0,0])\n",
    "joined.cardinality = ('year_month', [0,0])\n",
    "joined.cardinality = ('month_day', [0,0])\n",
    "joined.cardinality = ('duration', [0,0])\n",
    "joined.published = True\n",
    "print(joined)"
   ]
  },
  {
   "cell_type": "code",
   "execution_count": 8,
   "metadata": {},
   "outputs": [
    {
     "name": "stdout",
     "output_type": "stream",
     "text": [
      "XdStringType : First Name, ID: cleevm2l20007ystjbu89hxuu Published: True\n"
     ]
    }
   ],
   "source": [
    "fname = XdStringType('First Name')\n",
    "fname.docs = \"The employee's first name.\"\n",
    "fname.definition_url = 'https://s3model.com/examples/EmployeeFirstName'\n",
    "fname.cardinality = ('value', [1,1])\n",
    "fname.published = True\n",
    "print(fname)"
   ]
  },
  {
   "cell_type": "code",
   "execution_count": 9,
   "metadata": {},
   "outputs": [
    {
     "name": "stdout",
     "output_type": "stream",
     "text": [
      "XdStringType : Last Name, ID: cleevm2lh0009ystjmbag1j8l Published: True\n"
     ]
    }
   ],
   "source": [
    "lname = XdStringType('Last Name')\n",
    "lname.docs = \"The employee's last name.\"\n",
    "lname.definition_url = 'https://s3model.com/examples/EmployeeLastName'\n",
    "lname.cardinality = ('value', [1,1])\n",
    "lname.published = True\n",
    "print(lname)"
   ]
  },
  {
   "cell_type": "code",
   "execution_count": 10,
   "metadata": {},
   "outputs": [
    {
     "name": "stdout",
     "output_type": "stream",
     "text": [
      "XdStringType : Designation, ID: cleevm2lx000bystj28e3fzmq Published: True\n"
     ]
    }
   ],
   "source": [
    "desig = XdStringType('Designation')\n",
    "desig.docs = \"The employee's designation.\"\n",
    "desig.definition_url = 'https://s3model.com/examples/EmployeeDesignation'\n",
    "jobs = []\n",
    "jobs.append(('Manager', 'https://s3model.com/examples/EmployeeDesignation#Manager'))\n",
    "jobs.append(('Foreman', 'https://s3model.com/examples/EmployeeDesignation#Forman'))\n",
    "jobs.append(('LineWorker', 'https://s3model.com/examples/EmployeeDesignation#LineWorker'))\n",
    "desig.enums = jobs\n",
    "desig.published = True\n",
    "print(desig)"
   ]
  },
  {
   "cell_type": "code",
   "execution_count": 11,
   "metadata": {},
   "outputs": [
    {
     "name": "stdout",
     "output_type": "stream",
     "text": [
      "XdTemporalType : Date of Birth, ID: cleevm2md000dystjcn95fncc Published: True\n"
     ]
    }
   ],
   "source": [
    "dob = XdTemporalType(\"Date of Birth\")\n",
    "dob.docs = \"DOB allows a full date or just a month/year.\"\n",
    "dob.definition_url = 'http://s3model.com/examples/dob'\n",
    "dob.cardinality = ('date', [0,1])\n",
    "dob.cardinality = ('time', [0,0])\n",
    "dob.cardinality = ('datetime', [0,0])\n",
    "dob.cardinality = ('day', [0,0])\n",
    "dob.cardinality = ('month', [0,0])\n",
    "dob.cardinality = ('year', [0,0])\n",
    "dob.cardinality = ('year_month', [0,1])\n",
    "dob.cardinality = ('month_day', [0,0])\n",
    "dob.cardinality = ('duration', [0,0])\n",
    "dob.published = True\n",
    "print(dob)"
   ]
  },
  {
   "cell_type": "code",
   "execution_count": 12,
   "metadata": {},
   "outputs": [
    {
     "name": "stdout",
     "output_type": "stream",
     "text": [
      "XdStringType : Highest Qualification, ID: cleevm2mt000fystj4mc7x4pg Published: True\n"
     ]
    }
   ],
   "source": [
    "qual = XdStringType('Highest Qualification')\n",
    "qual.docs = \"The employee's highest level of qualification.\"\n",
    "qual.definition_url = 'https://s3model.com/examples/EmployeeQualification'\n",
    "level = []\n",
    "level.append(('Level1', 'https://s3model.com/examples/EmployeeQualification#Level1'))\n",
    "level.append(('Level2', 'https://s3model.com/examples/EmployeeQualification#Level2'))\n",
    "level.append(('Level3', 'https://s3model.com/examples/EmployeeQualification#Level3'))\n",
    "qual.enums = level\n",
    "qual.published = True\n",
    "print(qual)"
   ]
  },
  {
   "cell_type": "code",
   "execution_count": 13,
   "metadata": {},
   "outputs": [
    {
     "name": "stdout",
     "output_type": "stream",
     "text": [
      "XdCountType : Years of Experience, ID: cleevm2n8000jystjsz8mivjq Published: True\n"
     ]
    }
   ],
   "source": [
    "# create the units model\n",
    "unit = XdStringType('Years')\n",
    "unit.docs = \"Count of the years of experience.\"\n",
    "unit.definition_url = 'https://s3model.com/examples/Experience'\n",
    "unit.published = True\n",
    "# now the count model\n",
    "exp = XdCountType(\"Years of Experience\")\n",
    "exp.docs = \"Record the number of years of experience of the employee.\"\n",
    "exp.definition_url = 'https://s3model.com/examples/Experience#Years'\n",
    "exp.min_inclusive = 0\n",
    "exp.max_inclusive = 99\n",
    "exp.units = unit\n",
    "exp.published = True\n",
    "print(exp)"
   ]
  },
  {
   "cell_type": "code",
   "execution_count": 14,
   "metadata": {
    "scrolled": true
   },
   "outputs": [
    {
     "name": "stdout",
     "output_type": "stream",
     "text": [
      "ClusterType : Employee Record Form, ID: cleevm2jb0000ystjidp6kjjj Published: False\n"
     ]
    }
   ],
   "source": [
    "# Each component needs to be placed inside a new adapter before being added to the Cluster\n",
    "a = XdAdapterType()\n",
    "a.value = action # form action\n",
    "ERF.items = a\n",
    "\n",
    "b = XdAdapterType()\n",
    "b.value = empnum # Employee Number\n",
    "ERF.items = b\n",
    "\n",
    "c = XdAdapterType()\n",
    "c.value = joined  \n",
    "ERF.items = c\n",
    "\n",
    "d = XdAdapterType()\n",
    "d.value = fname \n",
    "ERF.items = d\n",
    "\n",
    "e = XdAdapterType()\n",
    "e.value = lname\n",
    "ERF.items = e\n",
    "\n",
    "f = XdAdapterType()\n",
    "f.value = desig\n",
    "ERF.items = f\n",
    "\n",
    "g = XdAdapterType()\n",
    "g.value = dob\n",
    "ERF.items = g\n",
    "\n",
    "h = XdAdapterType()\n",
    "h.value = qual\n",
    "ERF.items = h\n",
    "\n",
    "i = XdAdapterType()\n",
    "i.value = exp\n",
    "ERF.items = i\n",
    "\n",
    "print(ERF)"
   ]
  },
  {
   "cell_type": "code",
   "execution_count": 15,
   "metadata": {},
   "outputs": [
    {
     "name": "stdout",
     "output_type": "stream",
     "text": [
      "True\n"
     ]
    }
   ],
   "source": [
    "print(action.adapter)"
   ]
  },
  {
   "cell_type": "code",
   "execution_count": 16,
   "metadata": {},
   "outputs": [],
   "source": [
    "ERF.published = True\n",
    "# print(ERF.getModel())"
   ]
  },
  {
   "cell_type": "markdown",
   "metadata": {},
   "source": [
    "The model and instance data are quite large so we will write these out to files for examination in an editor."
   ]
  },
  {
   "cell_type": "code",
   "execution_count": 17,
   "metadata": {},
   "outputs": [
    {
     "name": "stdout",
     "output_type": "stream",
     "text": [
      "Writing model for  ClusterType : Employee Record Form, ID: cleevm2jb0000ystjidp6kjjj Published: True  to stub.xsd\n"
     ]
    }
   ],
   "source": [
    "# pass the model to write out\n",
    "xsdstub(ERF)"
   ]
  },
  {
   "cell_type": "code",
   "execution_count": 18,
   "metadata": {},
   "outputs": [
    {
     "name": "stdout",
     "output_type": "stream",
     "text": [
      "Writing data instance for  ClusterType : Employee Record Form, ID: cleevm2jb0000ystjidp6kjjj Published: True  to stub.xml\n",
      "Has enums\n",
      "Has enums\n",
      "Has enums\n"
     ]
    }
   ],
   "source": [
    "# pass the model to use for the data and if you want to generate example data pass True as the second parameter.\n",
    "xmlstub(ERF,True)"
   ]
  },
  {
   "cell_type": "code",
   "execution_count": 19,
   "metadata": {
    "tags": []
   },
   "outputs": [
    {
     "ename": "ExpatError",
     "evalue": "not well-formed (invalid token): line 1, column 10",
     "output_type": "error",
     "traceback": [
      "\u001b[1;31m---------------------------------------------------------------------------\u001b[0m",
      "\u001b[1;31mExpatError\u001b[0m                                Traceback (most recent call last)",
      "Cell \u001b[1;32mIn[19], line 2\u001b[0m\n\u001b[0;32m      1\u001b[0m \u001b[38;5;66;03m# You can also get your data as JSON\u001b[39;00m\n\u001b[1;32m----> 2\u001b[0m \u001b[38;5;28mprint\u001b[39m(\u001b[43mERF\u001b[49m\u001b[38;5;241;43m.\u001b[39;49m\u001b[43mgetJSONInstance\u001b[49m\u001b[43m(\u001b[49m\u001b[38;5;28;43;01mTrue\u001b[39;49;00m\u001b[43m)\u001b[49m)\n",
      "File \u001b[1;32m~\\anaconda3\\envs\\S3MPythonEx\\lib\\site-packages\\S3MPython\\struct.py:361\u001b[0m, in \u001b[0;36mClusterType.getJSONInstance\u001b[1;34m(self, example)\u001b[0m\n\u001b[0;32m    357\u001b[0m \u001b[38;5;250m\u001b[39m\u001b[38;5;124;03m\"\"\"\u001b[39;00m\n\u001b[0;32m    358\u001b[0m \u001b[38;5;124;03mReturn a JSON instance for the Participation.\u001b[39;00m\n\u001b[0;32m    359\u001b[0m \u001b[38;5;124;03m\"\"\"\u001b[39;00m\n\u001b[0;32m    360\u001b[0m xml \u001b[38;5;241m=\u001b[39m \u001b[38;5;28mself\u001b[39m\u001b[38;5;241m.\u001b[39mgetXMLInstance(example)\n\u001b[1;32m--> 361\u001b[0m parsed \u001b[38;5;241m=\u001b[39m \u001b[43mxmltodict\u001b[49m\u001b[38;5;241;43m.\u001b[39;49m\u001b[43mparse\u001b[49m\u001b[43m(\u001b[49m\u001b[43mxml\u001b[49m\u001b[43m,\u001b[49m\u001b[43m \u001b[49m\u001b[43mencoding\u001b[49m\u001b[38;5;241;43m=\u001b[39;49m\u001b[38;5;124;43m'\u001b[39;49m\u001b[38;5;124;43mUTF-8\u001b[39;49m\u001b[38;5;124;43m'\u001b[39;49m\u001b[43m,\u001b[49m\u001b[43m \u001b[49m\u001b[43mprocess_namespaces\u001b[49m\u001b[38;5;241;43m=\u001b[39;49m\u001b[38;5;28;43;01mFalse\u001b[39;49;00m\u001b[43m)\u001b[49m\n\u001b[0;32m    362\u001b[0m \u001b[38;5;28;01mreturn\u001b[39;00m(json\u001b[38;5;241m.\u001b[39mdumps(parsed, indent\u001b[38;5;241m=\u001b[39m\u001b[38;5;241m2\u001b[39m, sort_keys\u001b[38;5;241m=\u001b[39m\u001b[38;5;28;01mFalse\u001b[39;00m))\n",
      "File \u001b[1;32m~\\anaconda3\\envs\\S3MPythonEx\\lib\\site-packages\\xmltodict.py:378\u001b[0m, in \u001b[0;36mparse\u001b[1;34m(xml_input, encoding, expat, process_namespaces, namespace_separator, disable_entities, process_comments, **kwargs)\u001b[0m\n\u001b[0;32m    376\u001b[0m     parser\u001b[38;5;241m.\u001b[39mParse(\u001b[38;5;124mb\u001b[39m\u001b[38;5;124m'\u001b[39m\u001b[38;5;124m'\u001b[39m,\u001b[38;5;28;01mTrue\u001b[39;00m)\n\u001b[0;32m    377\u001b[0m \u001b[38;5;28;01melse\u001b[39;00m:\n\u001b[1;32m--> 378\u001b[0m     \u001b[43mparser\u001b[49m\u001b[38;5;241;43m.\u001b[39;49m\u001b[43mParse\u001b[49m\u001b[43m(\u001b[49m\u001b[43mxml_input\u001b[49m\u001b[43m,\u001b[49m\u001b[43m \u001b[49m\u001b[38;5;28;43;01mTrue\u001b[39;49;00m\u001b[43m)\u001b[49m\n\u001b[0;32m    379\u001b[0m \u001b[38;5;28;01mreturn\u001b[39;00m handler\u001b[38;5;241m.\u001b[39mitem\n",
      "\u001b[1;31mExpatError\u001b[0m: not well-formed (invalid token): line 1, column 10"
     ]
    }
   ],
   "source": [
    "# You can also get your data as JSON\n",
    "print(ERF.getJSONInstance(True))"
   ]
  }
 ],
 "metadata": {
  "kernelspec": {
   "display_name": "Python 3 (ipykernel)",
   "language": "python",
   "name": "python3"
  },
  "language_info": {
   "codemirror_mode": {
    "name": "ipython",
    "version": 3
   },
   "file_extension": ".py",
   "mimetype": "text/x-python",
   "name": "python",
   "nbconvert_exporter": "python",
   "pygments_lexer": "ipython3",
   "version": "3.10.9"
  }
 },
 "nbformat": 4,
 "nbformat_minor": 4
}
